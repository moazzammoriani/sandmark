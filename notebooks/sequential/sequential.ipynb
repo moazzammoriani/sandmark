{
 "cells": [
  {
   "cell_type": "markdown",
   "metadata": {},
   "source": [
    "# Throughput"
   ]
  },
  {
   "cell_type": "markdown",
   "metadata": {},
   "source": [
    "## Import Data"
   ]
  },
  {
   "cell_type": "code",
   "execution_count": null,
   "metadata": {},
   "outputs": [],
   "source": [
    "import json\n",
    "import os, glob\n",
    "import pandas as pd\n",
    "import pandas.io.json as pdjson\n",
    "import seaborn as sns\n",
    "\n",
    "sns.set(style=\"whitegrid\")"
   ]
  },
  {
   "cell_type": "code",
   "execution_count": null,
   "metadata": {
    "scrolled": false
   },
   "outputs": [],
   "source": [
    "data_frames = []\n",
    "\n",
    "for file in glob.glob(\"*_1.orun.summary.bench\"):\n",
    "    with open(file) as f:\n",
    "        data = []\n",
    "        for l in f:\n",
    "            temp = json.loads(l)\n",
    "            if 'name' in temp:\n",
    "                data.append(temp)\n",
    "        df = pd.json_normalize(data)\n",
    "        df['variant'] = file.replace(\"_1.orun.summary.bench\",\"\")\n",
    "        data_frames.append(df)\n",
    "\n",
    "df = pd.concat (data_frames, sort=False)\n",
    "df = df.sort_values(['name']) \n",
    "# Uncomment the following to display all the lines in pandas output\n",
    "#pd.set_option('display.max_rows', df.shape[0]+1)\n",
    "df"
   ]
  },
  {
   "cell_type": "markdown",
   "metadata": {},
   "source": [
    "<hr>\n",
    "\n",
    "### (USER INPUT)  Baseline variant name\n",
    "\n",
    "Please choose the baseline variant name for normalized graphs:"
   ]
  },
  {
   "cell_type": "code",
   "execution_count": null,
   "metadata": {},
   "outputs": [],
   "source": [
    "baseline = '5.0.0'"
   ]
  },
  {
   "cell_type": "markdown",
   "metadata": {},
   "source": [
    "Ensure that the baseline is one of the variants. Returns Raises `ValueError` if the baseline is not present in the loaded data:"
   ]
  },
  {
   "cell_type": "code",
   "execution_count": null,
   "metadata": {},
   "outputs": [],
   "source": [
    "is_present = df[\"variant\"].unique().tolist().index(baseline)"
   ]
  },
  {
   "cell_type": "markdown",
   "metadata": {},
   "source": [
    "<hr>"
   ]
  },
  {
   "cell_type": "markdown",
   "metadata": {},
   "source": [
    "### Selection example\n",
    "\n",
    "```\n",
    "select * from df where variant = baseline and time_secs > 10\n",
    "```"
   ]
  },
  {
   "cell_type": "code",
   "execution_count": null,
   "metadata": {
    "scrolled": false
   },
   "outputs": [],
   "source": [
    "df.loc[(df['variant'] == baseline) & (df['time_secs'] > 10)]"
   ]
  },
  {
   "cell_type": "code",
   "execution_count": null,
   "metadata": {},
   "outputs": [],
   "source": [
    "df.loc[df['name'] == 'LU_decomposition.1024']"
   ]
  },
  {
   "cell_type": "markdown",
   "metadata": {},
   "source": [
    "### Projection example\n",
    "\n",
    "```\n",
    "select name, variant, time_secs from df\n",
    "```"
   ]
  },
  {
   "cell_type": "code",
   "execution_count": null,
   "metadata": {},
   "outputs": [],
   "source": [
    "df.filter(['name','variant','time_secs'])"
   ]
  },
  {
   "cell_type": "markdown",
   "metadata": {},
   "source": [
    "## Time"
   ]
  },
  {
   "cell_type": "code",
   "execution_count": null,
   "metadata": {},
   "outputs": [],
   "source": [
    "g = sns.catplot (x='name', y='time_secs', hue='variant', data = df, kind ='bar', aspect=6)\n",
    "g.set_xticklabels(rotation=90)"
   ]
  },
  {
   "cell_type": "markdown",
   "metadata": {},
   "source": [
    "### Normalised"
   ]
  },
  {
   "cell_type": "code",
   "execution_count": null,
   "metadata": {},
   "outputs": [],
   "source": [
    "# returns a dictionary with {key = name : value : metric}\n",
    "# the metric corresponds to the variant\n",
    "def create_column(df, variant, metric):\n",
    "    df = pd.DataFrame.copy(df)\n",
    "    variant_metric_name = list([ zip(df[metric], df[x], df['name']) \n",
    "              for x in df.columns.array if x == \"variant\" ][0])\n",
    "    name_metric = {n:t for (t, v, n) in variant_metric_name if v == variant}\n",
    "#     print(name_metric)\n",
    "    return name_metric\n",
    "\n",
    "def add_display_name(df,variant, metric):\n",
    "    name_metric = create_column(pd.DataFrame.copy(df), variant, metric)\n",
    "#    print(name_metric)\n",
    "    disp_name = [name+\" (\"+str(round(name_metric[name], 2))+\")\" for name in df[\"name\"]]\n",
    "    df[\"display_name\"] = pd.Series(disp_name, index=df.index)\n",
    "    return df\n",
    "\n",
    "def normalise(df, baseline, topic, additionalTopics=[]):\n",
    "    \"\"\"Normalise the different variant values against the baseline.\n",
    "    \n",
    "    The resultant dataframe contains the normalised topic values for all \n",
    "    the variants other than the baseline. additionalTopics can be used to \n",
    "    include columns other than the topic column in the returned dataframe.\n",
    "    \"\"\"\n",
    "    df = add_display_name(df, baseline, topic)\n",
    "    items= ['name', topic, 'variant', 'display_name'] + additionalTopics\n",
    "    df_filtered = df.filter(items=items)\n",
    "    df_pivot = df_filtered.pivot(index='name', columns='variant', values=[topic])\n",
    "    baseline_column = (topic, baseline)\n",
    "    select_columns = [c for c in df_pivot.columns if c != baseline_column]\n",
    "    normalised = df_pivot.div(df_pivot[baseline_column], axis=0)[select_columns]\n",
    "    normalised = normalised.melt(col_level=1, ignore_index=False, value_name = 'n' + topic).reset_index()\n",
    "    if not select_columns:\n",
    "        print(\"need another variant to plot normalized graph\")\n",
    "    return pd.merge(normalised, df_filtered, on=['name', 'variant'])\n",
    "\n",
    "def plot_normalised(df,variant,topic):\n",
    "    df = pd.DataFrame.copy(df)\n",
    "    df.sort_values(by=[topic],inplace=True)\n",
    "    df[topic] = df[topic] - 1\n",
    "    g = sns.catplot (x=\"display_name\", y=topic, hue='variant', data = df, kind ='bar', aspect=8, bottom=1)\n",
    "    g.set_xticklabels(rotation=90)\n",
    "    g.ax.legend(loc=8)\n",
    "    g._legend.remove()\n",
    "    g.ax.set_xlabel(\"Benchmarks\")\n",
    "    return g\n",
    "    # g.ax.set_yscale('log')"
   ]
  },
  {
   "cell_type": "code",
   "execution_count": null,
   "metadata": {
    "scrolled": false
   },
   "outputs": [],
   "source": [
    "ndf = normalise(df,baseline,'time_secs')\n",
    "plot_normalised(ndf,baseline,'ntime_secs')"
   ]
  },
  {
   "cell_type": "markdown",
   "metadata": {},
   "source": [
    "## Top heap words"
   ]
  },
  {
   "cell_type": "code",
   "execution_count": null,
   "metadata": {
    "scrolled": true
   },
   "outputs": [],
   "source": [
    "g = sns.catplot (x='name', y='gc.top_heap_words', hue='variant', data = df, kind ='bar', aspect=6)\n",
    "g.set_xticklabels(rotation=90)"
   ]
  },
  {
   "cell_type": "markdown",
   "metadata": {},
   "source": [
    "### Normalised"
   ]
  },
  {
   "cell_type": "code",
   "execution_count": null,
   "metadata": {
    "scrolled": false
   },
   "outputs": [],
   "source": [
    "ndf = normalise(df,baseline,'gc.top_heap_words')\n",
    "plot_normalised(ndf,baseline,'ngc.top_heap_words')"
   ]
  },
  {
   "cell_type": "markdown",
   "metadata": {},
   "source": [
    "## Max RSS (KB)"
   ]
  },
  {
   "cell_type": "code",
   "execution_count": null,
   "metadata": {
    "scrolled": true
   },
   "outputs": [],
   "source": [
    "g = sns.catplot (x='name', y='maxrss_kB', hue='variant', data = df, kind ='bar', aspect=6)\n",
    "g.set_xticklabels(rotation=90)"
   ]
  },
  {
   "cell_type": "markdown",
   "metadata": {},
   "source": [
    "### Normalised"
   ]
  },
  {
   "cell_type": "code",
   "execution_count": null,
   "metadata": {
    "scrolled": false
   },
   "outputs": [],
   "source": [
    "ndf = normalise(df,baseline,'maxrss_kB')\n",
    "plot_normalised(ndf,baseline,'nmaxrss_kB')"
   ]
  },
  {
   "cell_type": "markdown",
   "metadata": {},
   "source": [
    "## Major Collections"
   ]
  },
  {
   "cell_type": "code",
   "execution_count": null,
   "metadata": {
    "scrolled": false
   },
   "outputs": [],
   "source": [
    "g = sns.catplot (x='name', y='gc.major_collections', hue='variant', data = df, kind ='bar', aspect=6)\n",
    "g.set_xticklabels(rotation=90)"
   ]
  },
  {
   "cell_type": "markdown",
   "metadata": {},
   "source": [
    "### Normalised"
   ]
  },
  {
   "cell_type": "code",
   "execution_count": null,
   "metadata": {},
   "outputs": [],
   "source": [
    "ndf = normalise(df,baseline,'gc.major_collections')\n",
    "plot_normalised(ndf,baseline,'ngc.major_collections')\n",
    "ndf"
   ]
  },
  {
   "cell_type": "markdown",
   "metadata": {},
   "source": [
    "## Major words"
   ]
  },
  {
   "cell_type": "code",
   "execution_count": null,
   "metadata": {},
   "outputs": [],
   "source": [
    "g = sns.catplot (x='name', y='gc.major_words', hue='variant', data = df, kind ='bar', aspect=6)\n",
    "g.set_xticklabels(rotation=90)"
   ]
  },
  {
   "cell_type": "markdown",
   "metadata": {},
   "source": [
    "### Normalised"
   ]
  },
  {
   "cell_type": "code",
   "execution_count": null,
   "metadata": {},
   "outputs": [],
   "source": [
    "ndf = normalise(df,baseline,'gc.major_words')\n",
    "plot_normalised(ndf,baseline,'ngc.major_words')"
   ]
  },
  {
   "cell_type": "markdown",
   "metadata": {},
   "source": [
    "## Minor Collections"
   ]
  },
  {
   "cell_type": "code",
   "execution_count": null,
   "metadata": {
    "scrolled": true
   },
   "outputs": [],
   "source": [
    "g = sns.catplot (x='name', y='gc.minor_collections', hue='variant', data = df, kind ='bar', aspect=6)\n",
    "g.set_xticklabels(rotation=90)"
   ]
  },
  {
   "cell_type": "code",
   "execution_count": null,
   "metadata": {},
   "outputs": [],
   "source": [
    "ndf = normalise(df,baseline,'gc.minor_collections')\n",
    "plot_normalised(ndf,baseline,'ngc.minor_collections')"
   ]
  }
 ],
 "metadata": {
  "kernelspec": {
   "display_name": "Python 3 (ipykernel)",
   "language": "python",
   "name": "python3"
  },
  "language_info": {
   "codemirror_mode": {
    "name": "ipython",
    "version": 3
   },
   "file_extension": ".py",
   "mimetype": "text/x-python",
   "name": "python",
   "nbconvert_exporter": "python",
   "pygments_lexer": "ipython3",
   "version": "3.9.9"
  }
 },
 "nbformat": 4,
 "nbformat_minor": 2
}
